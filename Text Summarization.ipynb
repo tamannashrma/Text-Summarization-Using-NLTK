{
 "cells": [
  {
   "cell_type": "code",
   "execution_count": 5,
   "id": "b9be9484",
   "metadata": {},
   "outputs": [
    {
     "name": "stderr",
     "output_type": "stream",
     "text": [
      "[nltk_data] Downloading package stopwords to\n",
      "[nltk_data]     C:\\Users\\shubh\\AppData\\Roaming\\nltk_data...\n",
      "[nltk_data]   Package stopwords is already up-to-date!\n"
     ]
    }
   ],
   "source": [
    "#Text Summarization using NLP\n",
    "\n",
    "# Install BeautifulSoup 4 - pip install beautifulsoup4\n",
    "# Install lxml - pip install lxml\n",
    "\n",
    "# Importing the libraries\n",
    "import bs4 as bs\n",
    "import urllib.request\n",
    "import re\n",
    "import nltk\n",
    "nltk.download('stopwords')\n",
    "import heapq"
   ]
  },
  {
   "cell_type": "markdown",
   "id": "d812b43c",
   "metadata": {},
   "source": [
    " Gettings the data source (for example : in URL format)"
   ]
  },
  {
   "cell_type": "code",
   "execution_count": 6,
   "id": "c4223ace",
   "metadata": {},
   "outputs": [],
   "source": [
    "HTML = urllib.request.urlopen('https://www.hindawi.com/journals/isrn/2014/251083/?utm_source=google&utm_medium=cpc&utm_campaign=HDW_MRKT_GBL_SUB_ADWO_PAI_DYNA_JOUR_X&gclid=Cj0KCQiAieWOBhCYARIsANcOw0wc5fjpccBvW0rPds1F_O5AfGm2iI-sDwzmcrv-KPwDI_1tit2gsNEaAgybEALw_wcB').read()\n",
    "\n",
    "# Parsing the data/ creating BeautifulSoup object\n",
    "parsedfile = bs.BeautifulSoup(HTML,'lxml')\n",
    "\n",
    "# Fetching the data\n",
    "data = \"\"\n",
    "for paragraph in parsedfile.find_all('p'):\n",
    "    data += paragraph.text\n"
   ]
  },
  {
   "cell_type": "markdown",
   "id": "cffcbd8c",
   "metadata": {},
   "source": [
    "Preprocessing the data"
   ]
  },
  {
   "cell_type": "code",
   "execution_count": 7,
   "id": "6db47a8d",
   "metadata": {},
   "outputs": [],
   "source": [
    "data = re.sub(r'\\[[0-9]*\\]',' ',data)\n",
    "data = re.sub(r'\\s+',' ',data)\n",
    "clean_data = data.lower()\n",
    "clean_data = re.sub(r'\\W',' ',clean_data)\n",
    "clean_data = re.sub(r'\\d',' ',clean_data)\n",
    "clean_data = re.sub(r'\\s+',' ',clean_data)"
   ]
  },
  {
   "cell_type": "markdown",
   "id": "c7b77f76",
   "metadata": {},
   "source": [
    "Tokenize sentences"
   ]
  },
  {
   "cell_type": "code",
   "execution_count": 8,
   "id": "a3d201ac",
   "metadata": {},
   "outputs": [],
   "source": [
    "sentences = nltk.sent_tokenize(data)"
   ]
  },
  {
   "cell_type": "markdown",
   "id": "ee476f83",
   "metadata": {},
   "source": [
    "Stopword list"
   ]
  },
  {
   "cell_type": "code",
   "execution_count": 9,
   "id": "aaf87e92",
   "metadata": {},
   "outputs": [],
   "source": [
    "stop_words = nltk.corpus.stopwords.words('english')"
   ]
  },
  {
   "cell_type": "code",
   "execution_count": 10,
   "id": "193d740d",
   "metadata": {},
   "outputs": [],
   "source": [
    "# Word counts \n",
    "word2count = {}\n",
    "for word in nltk.word_tokenize(clean_data):\n",
    "    if word not in stop_words:\n",
    "        if word not in word2count.keys():\n",
    "            word2count[word] = 1\n",
    "        else:\n",
    "            word2count[word] += 1"
   ]
  },
  {
   "cell_type": "code",
   "execution_count": 11,
   "id": "75975963",
   "metadata": {},
   "outputs": [],
   "source": [
    "# Converting counts to weights\n",
    "max_count = max(word2count.values())\n",
    "for key in word2count.keys():\n",
    "    word2count[key] = word2count[key]/max_count"
   ]
  },
  {
   "cell_type": "code",
   "execution_count": 12,
   "id": "39db0b98",
   "metadata": {},
   "outputs": [],
   "source": [
    "# Product sentence scores    \n",
    "sent2score = {}\n",
    "for sentence in sentences:\n",
    "    for word in nltk.word_tokenize(sentence.lower()):\n",
    "        if word in word2count.keys():\n",
    "            if len(sentence.split(' ')) < 25:\n",
    "                if sentence not in sent2score.keys():\n",
    "                    sent2score[sentence] = word2count[word]\n",
    "                else:\n",
    "                    sent2score[sentence] += word2count[word]"
   ]
  },
  {
   "cell_type": "markdown",
   "id": "974d1859",
   "metadata": {},
   "source": [
    "Ten best lines as summary"
   ]
  },
  {
   "cell_type": "code",
   "execution_count": 20,
   "id": "41bbe437",
   "metadata": {},
   "outputs": [
    {
     "name": "stdout",
     "output_type": "stream",
     "text": [
      "summary of this article is-----       \n",
      "Rath, \"Statistical and Machine Learning Methods for Software Fault Prediction Using CK Metric Suite: A Comparative Analysis\", International Scholarly Research Notices, vol.\n",
      "In this approach, the comparative study involves using six CK metrics as input nodes and the output is the achieved fault prediction rate.\n",
      "Regression analysis methods such as linear regression and logistic regression analysis are applied.\n",
      "Multivariate logistic regression is used to construct a prediction model for the fault proneness of classes.\n",
      "Statistical methods such as linear regression and logistic regression are used for classification of faulty classes.\n",
      "In this paper, two approaches, namely, statistical methods and machine learning techniques were applied for fault prediction.\n",
      "In case of Gradient descent method, learning rate is constant but in Levenberg Marquardt method, learning rate varies in every iteration.\n",
      "Fault prediction using statistical and machine learning methods were carried out for AIF by coding in MATLAB environment.\n",
      "found out the relationship between fault and the metrics using univariate and multivariate logistic regression models.\n",
      "Figure 11 shows the typical “” curve obtained (similar to Sigmoid function) for the AIF version 1.6 using multivariate logistic regression.\n"
     ]
    }
   ],
   "source": [
    "best_sentences = heapq.nlargest(10, sent2score, key=sent2score.get)\n",
    "\n",
    "print('summary of this article is-----       ')\n",
    "for sentence in best_sentences:\n",
    "  print(sentence)\n"
   ]
  },
  {
   "cell_type": "code",
   "execution_count": null,
   "id": "d0f30274",
   "metadata": {},
   "outputs": [],
   "source": []
  }
 ],
 "metadata": {
  "kernelspec": {
   "display_name": "Python 3",
   "language": "python",
   "name": "python3"
  },
  "language_info": {
   "codemirror_mode": {
    "name": "ipython",
    "version": 3
   },
   "file_extension": ".py",
   "mimetype": "text/x-python",
   "name": "python",
   "nbconvert_exporter": "python",
   "pygments_lexer": "ipython3",
   "version": "3.8.8"
  }
 },
 "nbformat": 4,
 "nbformat_minor": 5
}
